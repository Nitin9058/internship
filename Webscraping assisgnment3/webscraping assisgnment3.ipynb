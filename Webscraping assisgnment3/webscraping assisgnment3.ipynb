{
 "cells": [
  {
   "cell_type": "markdown",
   "id": "d5ee2901",
   "metadata": {},
   "source": [
    "# Question No.1"
   ]
  },
  {
   "cell_type": "code",
   "execution_count": 1,
   "id": "f7fad305",
   "metadata": {},
   "outputs": [],
   "source": [
    "import selenium\n",
    "import pandas as pd\n",
    "import time\n",
    "import warnings\n",
    "from selenium import webdriver\n",
    "from selenium.webdriver.common.by import By\n",
    "from selenium.common.exceptions import NoSuchElementException\n",
    "import requests"
   ]
  },
  {
   "cell_type": "code",
   "execution_count": 2,
   "id": "343faab2",
   "metadata": {},
   "outputs": [
    {
     "name": "stderr",
     "output_type": "stream",
     "text": [
      "C:\\Users\\ser\\AppData\\Local\\Temp\\ipykernel_8704\\2094894575.py:1: DeprecationWarning: executable_path has been deprecated, please pass in a Service object\n",
      "  driver=webdriver.Chrome(r\"chromedriver.exe\")\n"
     ]
    }
   ],
   "source": [
    "driver=webdriver.Chrome(r\"chromedriver.exe\")\n",
    "time.sleep(3)"
   ]
  },
  {
   "cell_type": "code",
   "execution_count": 3,
   "id": "2cf5195b",
   "metadata": {},
   "outputs": [],
   "source": [
    "driver.get(\"https://www.amazon.in/\")"
   ]
  },
  {
   "cell_type": "code",
   "execution_count": 4,
   "id": "02864dd4",
   "metadata": {},
   "outputs": [
    {
     "name": "stdout",
     "output_type": "stream",
     "text": [
      "Enter the product which you want to search : guitar\n"
     ]
    }
   ],
   "source": [
    "time.sleep(2)\n",
    "user_input=input('Enter the product which you want to search : ')"
   ]
  },
  {
   "cell_type": "markdown",
   "id": "ef8d0482",
   "metadata": {},
   "source": [
    "# Question No 2"
   ]
  },
  {
   "cell_type": "code",
   "execution_count": 5,
   "id": "9a016dc4",
   "metadata": {},
   "outputs": [],
   "source": [
    "import selenium\n",
    "import pandas as pd\n",
    "import time\n",
    "import warnings\n",
    "from selenium import webdriver\n",
    "from selenium.webdriver.common.by import By\n",
    "from selenium.common.exceptions import NoSuchElementException\n",
    "import requests"
   ]
  },
  {
   "cell_type": "code",
   "execution_count": 6,
   "id": "e5994999",
   "metadata": {},
   "outputs": [
    {
     "name": "stderr",
     "output_type": "stream",
     "text": [
      "C:\\Users\\ser\\AppData\\Local\\Temp\\ipykernel_8704\\191662975.py:1: DeprecationWarning: executable_path has been deprecated, please pass in a Service object\n",
      "  driver=webdriver.Chrome(r\"chromedriver.exe\")\n"
     ]
    }
   ],
   "source": [
    "driver=webdriver.Chrome(r\"chromedriver.exe\")"
   ]
  },
  {
   "cell_type": "code",
   "execution_count": 7,
   "id": "e0a2fc74",
   "metadata": {},
   "outputs": [],
   "source": [
    "driver.get(\"https://www.amazon.in/\")"
   ]
  },
  {
   "cell_type": "code",
   "execution_count": 8,
   "id": "1edefee6",
   "metadata": {},
   "outputs": [],
   "source": [
    "search_bar=driver.find_element(By.XPATH,\"//div[@class='nav-search-field ']//input\")\n",
    "search_bar.send_keys('guitar')\n",
    "search=driver.find_element(By.XPATH,\"//div[@class='nav-search-submit nav-sprite']//span\")\n",
    "search.click()\n",
    "time.sleep(3)"
   ]
  },
  {
   "cell_type": "code",
   "execution_count": 9,
   "id": "ab5ae1aa",
   "metadata": {},
   "outputs": [],
   "source": [
    "product_urls = []\n",
    "start=0\n",
    "end=3\n",
    "for page in range(start,end):\n",
    "    url=driver.find_elements(By.XPATH,'//a[@class=\"a-link-normal s-underline-text s-underline-link-text s-link-style a-text-normal\"]')       \n",
    "    for i in url[0:10]:\n",
    "        product_urls.append(i.get_attribute(\"href\"))                        \n",
    "    nxt_button=driver.find_elements(By.XPATH,'//a[@class=\"s-pagination-item s-pagination-next s-pagination-button s-pagination-separator\"]')     \n",
    "    time.sleep(2) \n",
    "    \n",
    "       "
   ]
  },
  {
   "cell_type": "code",
   "execution_count": 10,
   "id": "da3ca74f",
   "metadata": {},
   "outputs": [
    {
     "data": {
      "text/plain": [
       "30"
      ]
     },
     "execution_count": 10,
     "metadata": {},
     "output_type": "execute_result"
    }
   ],
   "source": [
    "len(product_urls)"
   ]
  },
  {
   "cell_type": "code",
   "execution_count": 11,
   "id": "618c13a3",
   "metadata": {},
   "outputs": [],
   "source": [
    "Brand_Name = []   \n",
    "Product_Name = []\n",
    "Rating = []\n",
    "no_of_ratings = []\n",
    "Price = []\n",
    "Return = []\n",
    "expected_delivery = []\n",
    "Availability = [] \n",
    "Other_Details = []\n"
   ]
  },
  {
   "cell_type": "code",
   "execution_count": 12,
   "id": "2e2d08fc",
   "metadata": {},
   "outputs": [],
   "source": [
    "for url in product_urls:\n",
    "    driver.get(url)\n",
    "    time.sleep(2)\n",
    "    \n",
    "    \n",
    "    try:\n",
    "        brand = driver.find_element(By.XPATH,'//a[@id=\"bylineInfo\"]')      \n",
    "        Brand_Name.append(brand.text)\n",
    "    except NoSuchElementException:\n",
    "        Brand_Name.append('-')    \n",
    "\n",
    "\n",
    "    time.sleep(1)\n",
    "    \n",
    "    try:\n",
    "        name = driver.find_element(By.XPATH,'//span[@class=\"a-size-large product-title-word-break\"]')      \n",
    "        Product_Name.append(name.text)\n",
    "    except NoSuchElementException:\n",
    "        Product_Name.append('-')\n",
    "\n",
    "\n",
    "    time.sleep(1)    \n",
    "        \n",
    "    try:\n",
    "        rating = driver.find_element(By.XPATH,'//span[@class=\"a-size-base a-nowrap\"]//span')  \n",
    "        Rating.append(rating.text)\n",
    "    except NoSuchElementException:\n",
    "        Rating.append('-')\n",
    "\n",
    "\n",
    "    time.sleep(1)\n",
    "    \n",
    "    try:\n",
    "        no_rating = driver.find_element(By.XPATH,'//span[@class=\"a-size-base a-color-secondary\"]')  \n",
    "        no_of_ratings.append(no_rating.text)\n",
    "    except NoSuchElementException:\n",
    "        no_of_ratings.append('-')\n",
    "\n",
    "\n",
    "    time.sleep(1)\n",
    "        \n",
    "    try:\n",
    "        price = driver.find_element(By.XPATH,'//td[@class=\"a-span12\"]')  \n",
    "        Price.append(price.text)\n",
    "    except NoSuchElementException:\n",
    "        Price.append('-')\n",
    "\n",
    "\n",
    "    time.sleep(1)\n",
    "    \n",
    "    try:\n",
    "        return_ = driver.find_element(By.XPATH,'//a[@class=\"a-size-small a-link-normal a-text-normal\"]')  \n",
    "        Return.append(return_.text)\n",
    "    except NoSuchElementException:\n",
    "        Return.append('-')\n",
    "\n",
    "\n",
    "    time.sleep(1)\n",
    "    \n",
    "    try:\n",
    "        exptd_dlvry= driver.find_element(By.XPATH,'//span[@class=\"a-color-error\"]')  \n",
    "        expected_delivery.append(exptd_dlvry.text)\n",
    "    except NoSuchElementException:\n",
    "         expected_delivery.append('-')\n",
    "\n",
    "\n",
    "    time.sleep(1)\n",
    "             \n",
    "    try:\n",
    "        avl= driver.find_element(By.XPATH,'//span[@class=\"a-size-medium a-color-success\"]')  \n",
    "        Availability.append(avl.text)\n",
    "    except NoSuchElementException:\n",
    "        Availability.append('-')\n",
    "\n",
    "\n",
    "\n",
    "    time.sleep(1)\n",
    "        \n",
    "    try:\n",
    "        othr_dtls= driver.find_element(By.XPATH,'//ul[@class=\"a-unordered-list a-vertical a-spacing-mini\"]')  \n",
    "        Other_Details.append(othr_dtls.text)\n",
    "    except NoSuchElementException:\n",
    "        Other_Details.append('-')\n",
    "\n",
    "time.sleep(2)    \n"
   ]
  },
  {
   "cell_type": "code",
   "execution_count": 13,
   "id": "b95751e5",
   "metadata": {},
   "outputs": [
    {
     "name": "stdout",
     "output_type": "stream",
     "text": [
      "30 30 30 30 30 30 30 30 30\n"
     ]
    }
   ],
   "source": [
    "print(len(Brand_Name),len(Product_Name),len(Rating),len(no_of_ratings),len(Price),len(Return),len(expected_delivery),len(Availability),len(Other_Details))"
   ]
  },
  {
   "cell_type": "code",
   "execution_count": 14,
   "id": "6dbebf62",
   "metadata": {},
   "outputs": [
    {
     "name": "stdout",
     "output_type": "stream",
     "text": [
      "                      Brand  \\\n",
      "0   Visit the Kadence Store   \n",
      "1   Visit the Kadence Store   \n",
      "2   Visit the Kadence Store   \n",
      "3     Visit the VAULT Store   \n",
      "4    Visit the JUAREZ Store   \n",
      "5    Visit the Intern Store   \n",
      "6    Visit the JUAREZ Store   \n",
      "7    Visit the YAMAHA Store   \n",
      "8    Visit the JUAREZ Store   \n",
      "9    Visit the JUAREZ Store   \n",
      "10  Visit the Kadence Store   \n",
      "11  Visit the Kadence Store   \n",
      "12  Visit the Kadence Store   \n",
      "13    Visit the VAULT Store   \n",
      "14   Visit the JUAREZ Store   \n",
      "15   Visit the Intern Store   \n",
      "16   Visit the JUAREZ Store   \n",
      "17   Visit the YAMAHA Store   \n",
      "18   Visit the JUAREZ Store   \n",
      "19   Visit the JUAREZ Store   \n",
      "20  Visit the Kadence Store   \n",
      "21  Visit the Kadence Store   \n",
      "22  Visit the Kadence Store   \n",
      "23    Visit the VAULT Store   \n",
      "24   Visit the JUAREZ Store   \n",
      "25   Visit the Intern Store   \n",
      "26   Visit the JUAREZ Store   \n",
      "27   Visit the YAMAHA Store   \n",
      "28   Visit the JUAREZ Store   \n",
      "29   Visit the JUAREZ Store   \n",
      "\n",
      "                                                 Name        Rating  \\\n",
      "0   Kadence Frontier Jumbo Semi Acoustic Guitar Wi...    4 out of 5   \n",
      "1   Kadence Slowhand Premium Jumbo Semi Acoustic G...    4 out of 5   \n",
      "2   Kadence Frontier guitar with Online Guitar lea...    4 out of 5   \n",
      "3   Vault Traveller 34 Inch Acoustic Guitar With T...  3.5 out of 5   \n",
      "4   Juârez Acoustic Guitar, 38 Inch Cutaway, 038C ...    4 out of 5   \n",
      "5   Intern INT-38C Right hand Acoustic Guitar Kit,...    4 out of 5   \n",
      "6   Juarez Lindenwood Acoustic Guitar Kit, 38 Inch...    4 out of 5   \n",
      "7   Yamaha F280 Acoustic Rosewood Guitar (Natural,...  4.3 out of 5   \n",
      "8   JUAREZ JRZ38C 38 Inches Lindenwood Right Hande...  3.9 out of 5   \n",
      "9   Juarez Lindenwood Acoustic Guitar Kit, 38 Inch...    4 out of 5   \n",
      "10  Kadence Frontier Jumbo Semi Acoustic Guitar Wi...    4 out of 5   \n",
      "11  Kadence Slowhand Premium Jumbo Semi Acoustic G...    4 out of 5   \n",
      "12  Kadence Frontier guitar with Online Guitar lea...    4 out of 5   \n",
      "13  Vault Traveller 34 Inch Acoustic Guitar With T...  3.5 out of 5   \n",
      "14  Juârez Acoustic Guitar, 38 Inch Cutaway, 038C ...    4 out of 5   \n",
      "15  Intern INT-38C Right hand Acoustic Guitar Kit,...    4 out of 5   \n",
      "16  Juarez Lindenwood Acoustic Guitar Kit, 38 Inch...    4 out of 5   \n",
      "17  Yamaha F280 Acoustic Rosewood Guitar (Natural,...  4.3 out of 5   \n",
      "18  JUAREZ JRZ38C 38 Inches Lindenwood Right Hande...  3.9 out of 5   \n",
      "19  Juarez Lindenwood Acoustic Guitar Kit, 38 Inch...    4 out of 5   \n",
      "20  Kadence Frontier Jumbo Semi Acoustic Guitar Wi...    4 out of 5   \n",
      "21  Kadence Slowhand Premium Jumbo Semi Acoustic G...    4 out of 5   \n",
      "22  Kadence Frontier guitar with Online Guitar lea...    4 out of 5   \n",
      "23  Vault Traveller 34 Inch Acoustic Guitar With T...  3.5 out of 5   \n",
      "24  Juârez Acoustic Guitar, 38 Inch Cutaway, 038C ...    4 out of 5   \n",
      "25  Intern INT-38C Right hand Acoustic Guitar Kit,...    4 out of 5   \n",
      "26  Juarez Lindenwood Acoustic Guitar Kit, 38 Inch...    4 out of 5   \n",
      "27  Yamaha F280 Acoustic Rosewood Guitar (Natural,...  4.3 out of 5   \n",
      "28  JUAREZ JRZ38C 38 Inches Lindenwood Right Hande...  3.9 out of 5   \n",
      "29  Juarez Lindenwood Acoustic Guitar Kit, 38 Inch...    4 out of 5   \n",
      "\n",
      "           No. of ratings Price Return/Exchange Expected Delivery  \\\n",
      "0            Total price:     -   Free Delivery                 -   \n",
      "1            Total price:     -   Free Delivery                 -   \n",
      "2            Total price:     -   Free Delivery                 -   \n",
      "3      122 global ratings     -   Free Delivery                 -   \n",
      "4            Total price:     -   Free Delivery                 -   \n",
      "5   12,555 global ratings     -   Free Delivery                 -   \n",
      "6            Total price:     -   Free Delivery                 -   \n",
      "7            Total price:     -   Free Delivery                 -   \n",
      "8            Total price:     -   Free Delivery                 -   \n",
      "9            Total price:     -   Free Delivery                 -   \n",
      "10           Total price:     -   Free Delivery                 -   \n",
      "11           Total price:     -   Free Delivery                 -   \n",
      "12           Total price:     -   Free Delivery                 -   \n",
      "13     122 global ratings     -   Free Delivery                 -   \n",
      "14           Total price:     -   Free Delivery                 -   \n",
      "15  12,555 global ratings     -   Free Delivery                 -   \n",
      "16           Total price:     -   Free Delivery                 -   \n",
      "17           Total price:     -   Free Delivery                 -   \n",
      "18           Total price:     -   Free Delivery                 -   \n",
      "19           Total price:     -   Free Delivery                 -   \n",
      "20           Total price:     -   Free Delivery                 -   \n",
      "21           Total price:     -   Free Delivery                 -   \n",
      "22           Total price:     -   Free Delivery                 -   \n",
      "23     122 global ratings     -   Free Delivery                 -   \n",
      "24           Total price:     -   Free Delivery                 -   \n",
      "25  12,555 global ratings     -   Free Delivery                 -   \n",
      "26           Total price:     -   Free Delivery                 -   \n",
      "27           Total price:     -   Free Delivery                 -   \n",
      "28           Total price:     -   Free Delivery                 -   \n",
      "29           Total price:     -   Free Delivery                 -   \n",
      "\n",
      "   Availability                                      Other Details  \\\n",
      "0      In stock  ACOUSTIC-ELECTRIC GUITAR: The black acoustic g...   \n",
      "1      In stock  ACOUSTIC-ELECTRIC GUITAR: Kadence Slowhand sem...   \n",
      "2      In stock  ★ Design - The High Gloss finish, Simple head ...   \n",
      "3      In stock  Do not be fooled by the size of this guitar by...   \n",
      "4      In stock  Black Glossy Finish, Number of Frets: 18, Acou...   \n",
      "5      In stock  Great looks with an innovative design to produ...   \n",
      "6      In stock  Black glossy finish, number of frets: 18, acou...   \n",
      "7      In stock  Rosewood fingerboard\\nGloss Top, String Materi...   \n",
      "8      In stock  Number of Frets: 18\\nAcoustic guitar with stra...   \n",
      "9      In stock  Black glossy finish, number of frets: 18, acou...   \n",
      "10     In stock  ACOUSTIC-ELECTRIC GUITAR: The black acoustic g...   \n",
      "11     In stock  ACOUSTIC-ELECTRIC GUITAR: Kadence Slowhand sem...   \n",
      "12     In stock  ★ Design - The High Gloss finish, Simple head ...   \n",
      "13     In stock  Do not be fooled by the size of this guitar by...   \n",
      "14     In stock  Black Glossy Finish, Number of Frets: 18, Acou...   \n",
      "15     In stock  Great looks with an innovative design to produ...   \n",
      "16     In stock  Black glossy finish, number of frets: 18, acou...   \n",
      "17     In stock  Rosewood fingerboard\\nGloss Top, String Materi...   \n",
      "18     In stock  Number of Frets: 18\\nAcoustic guitar with stra...   \n",
      "19     In stock  Black glossy finish, number of frets: 18, acou...   \n",
      "20     In stock  ACOUSTIC-ELECTRIC GUITAR: The black acoustic g...   \n",
      "21     In stock  ACOUSTIC-ELECTRIC GUITAR: Kadence Slowhand sem...   \n",
      "22     In stock  ★ Design - The High Gloss finish, Simple head ...   \n",
      "23     In stock  Do not be fooled by the size of this guitar by...   \n",
      "24     In stock  Black Glossy Finish, Number of Frets: 18, Acou...   \n",
      "25     In stock  Great looks with an innovative design to produ...   \n",
      "26     In stock  Black glossy finish, number of frets: 18, acou...   \n",
      "27     In stock  Rosewood fingerboard\\nGloss Top, String Materi...   \n",
      "28     In stock  Number of Frets: 18\\nAcoustic guitar with stra...   \n",
      "29     In stock  Black glossy finish, number of frets: 18, acou...   \n",
      "\n",
      "                                                  URL  \n",
      "0   https://www.amazon.in/sspa/click?ie=UTF8&spc=M...  \n",
      "1   https://www.amazon.in/sspa/click?ie=UTF8&spc=M...  \n",
      "2   https://www.amazon.in/sspa/click?ie=UTF8&spc=M...  \n",
      "3   https://www.amazon.in/sspa/click?ie=UTF8&spc=M...  \n",
      "4   https://www.amazon.in/Juarez-Acoustic-Cutaway-...  \n",
      "5   https://www.amazon.in/Intern-INT-38C-Acoustic-...  \n",
      "6   https://www.amazon.in/JUAREZ-JRZ38C-Acoustic-S...  \n",
      "7   https://www.amazon.in/Yamaha-F280-Acoustic-Gui...  \n",
      "8   https://www.amazon.in/JUAREZ-JRZ38C-Acoustic-N...  \n",
      "9   https://www.amazon.in/JUAREZ-JRZ38C-Acoustic-S...  \n",
      "10  https://www.amazon.in/sspa/click?ie=UTF8&spc=M...  \n",
      "11  https://www.amazon.in/sspa/click?ie=UTF8&spc=M...  \n",
      "12  https://www.amazon.in/sspa/click?ie=UTF8&spc=M...  \n",
      "13  https://www.amazon.in/sspa/click?ie=UTF8&spc=M...  \n",
      "14  https://www.amazon.in/Juarez-Acoustic-Cutaway-...  \n",
      "15  https://www.amazon.in/Intern-INT-38C-Acoustic-...  \n",
      "16  https://www.amazon.in/JUAREZ-JRZ38C-Acoustic-S...  \n",
      "17  https://www.amazon.in/Yamaha-F280-Acoustic-Gui...  \n",
      "18  https://www.amazon.in/JUAREZ-JRZ38C-Acoustic-N...  \n",
      "19  https://www.amazon.in/JUAREZ-JRZ38C-Acoustic-S...  \n",
      "20  https://www.amazon.in/sspa/click?ie=UTF8&spc=M...  \n",
      "21  https://www.amazon.in/sspa/click?ie=UTF8&spc=M...  \n",
      "22  https://www.amazon.in/sspa/click?ie=UTF8&spc=M...  \n",
      "23  https://www.amazon.in/sspa/click?ie=UTF8&spc=M...  \n",
      "24  https://www.amazon.in/Juarez-Acoustic-Cutaway-...  \n",
      "25  https://www.amazon.in/Intern-INT-38C-Acoustic-...  \n",
      "26  https://www.amazon.in/JUAREZ-JRZ38C-Acoustic-S...  \n",
      "27  https://www.amazon.in/Yamaha-F280-Acoustic-Gui...  \n",
      "28  https://www.amazon.in/JUAREZ-JRZ38C-Acoustic-N...  \n",
      "29  https://www.amazon.in/JUAREZ-JRZ38C-Acoustic-S...  \n"
     ]
    }
   ],
   "source": [
    "df = pd.DataFrame({'Brand':Brand_Name,'Name':Product_Name,'Rating':Rating,'No. of ratings':no_of_ratings,'Price':Price,'Return/Exchange':Return,'Expected Delivery':expected_delivery,'Availability':Availability,'Other Details':Other_Details,'URL':product_urls})\n",
    "print(df)\n"
   ]
  },
  {
   "cell_type": "markdown",
   "id": "70bf9e1e",
   "metadata": {},
   "source": [
    "# Question No. 3"
   ]
  },
  {
   "cell_type": "code",
   "execution_count": 15,
   "id": "1c29edb5",
   "metadata": {},
   "outputs": [],
   "source": [
    "import selenium\n",
    "import pandas as pd\n",
    "import time\n",
    "import warnings\n",
    "from selenium import webdriver\n",
    "from selenium.webdriver.common.by import By\n",
    "from selenium.common.exceptions import NoSuchElementException\n",
    "import requests"
   ]
  },
  {
   "cell_type": "code",
   "execution_count": 16,
   "id": "bd46928c",
   "metadata": {},
   "outputs": [
    {
     "name": "stderr",
     "output_type": "stream",
     "text": [
      "C:\\Users\\ser\\AppData\\Local\\Temp\\ipykernel_8704\\191662975.py:1: DeprecationWarning: executable_path has been deprecated, please pass in a Service object\n",
      "  driver=webdriver.Chrome(r\"chromedriver.exe\")\n"
     ]
    }
   ],
   "source": [
    "driver=webdriver.Chrome(r\"chromedriver.exe\")"
   ]
  },
  {
   "cell_type": "code",
   "execution_count": 17,
   "id": "e3d7d4bc",
   "metadata": {},
   "outputs": [],
   "source": [
    "url = \"https://images.google.com/\"\n",
    "driver.get(url)"
   ]
  },
  {
   "cell_type": "code",
   "execution_count": 19,
   "id": "34fc1cd2",
   "metadata": {},
   "outputs": [],
   "source": [
    "search_bar = driver.find_element(By.XPATH,'//input[@class=\"gLFyf\"]')   \n",
    "search_bar.send_keys(\"cakes\")       \n",
    "search_button = driver.find_element(By.XPATH,'//span[@class=\"z1asCe MZy1Rb\"]')    \n",
    "search_button.click()       "
   ]
  },
  {
   "cell_type": "code",
   "execution_count": 21,
   "id": "b766dadd",
   "metadata": {},
   "outputs": [
    {
     "name": "stdout",
     "output_type": "stream",
     "text": [
      "Downloading 0 of 10 images\n",
      "Downloading 1 of 10 images\n",
      "Downloading 2 of 10 images\n",
      "Downloading 3 of 10 images\n",
      "Downloading 4 of 10 images\n",
      "Downloading 5 of 10 images\n",
      "Downloading 6 of 10 images\n",
      "Downloading 7 of 10 images\n",
      "Downloading 8 of 10 images\n",
      "Downloading 9 of 10 images\n",
      "Downloading 10 of 10 images\n"
     ]
    }
   ],
   "source": [
    "for _ in range(20):\n",
    "    driver.execute_script(\"window.scrollBy(0,1000)\")\n",
    "    \n",
    "images = driver.find_elements(By.XPATH,'//img[@class=\"rg_i Q4LuWd\"]')\n",
    "\n",
    "img_urls = []\n",
    "img_data = []\n",
    "for image in images:\n",
    "    source= image.get_attribute('src')\n",
    "    if source is not None:\n",
    "        if(source[0:4] == 'http'):\n",
    "            img_urls.append(source)\n",
    "            \n",
    "            \n",
    "for i in range(len(img_urls)):\n",
    "    if i > 10:\n",
    "        break\n",
    "    print(\"Downloading {0} of {1} images\" .format(i, 10))\n",
    "    response= requests.get(img_urls[i])\n",
    "    file = open(r\"D:\\images ass. 3\"+str(i)+\".jpg\", \"wb\")\n",
    "    file.write(response.content)"
   ]
  },
  {
   "cell_type": "code",
   "execution_count": 23,
   "id": "0e42617f",
   "metadata": {},
   "outputs": [],
   "source": [
    "search_bar = driver.find_element(By.XPATH,'//input[@class=\"gLFyf\"]')   \n",
    "search_bar.send_keys(\"fruits\")       \n",
    "search_button = driver.find_element(By.XPATH,'//span[@class=\"z1asCe MZy1Rb\"]')    \n",
    "search_button.click()       "
   ]
  },
  {
   "cell_type": "code",
   "execution_count": 25,
   "id": "e6c91936",
   "metadata": {},
   "outputs": [
    {
     "name": "stdout",
     "output_type": "stream",
     "text": [
      "Downloading 0 of 10 images\n",
      "Downloading 1 of 10 images\n",
      "Downloading 2 of 10 images\n",
      "Downloading 3 of 10 images\n",
      "Downloading 4 of 10 images\n",
      "Downloading 5 of 10 images\n",
      "Downloading 6 of 10 images\n",
      "Downloading 7 of 10 images\n",
      "Downloading 8 of 10 images\n",
      "Downloading 9 of 10 images\n",
      "Downloading 10 of 10 images\n"
     ]
    }
   ],
   "source": [
    "for _ in range(20):\n",
    "    driver.execute_script(\"window.scrollBy(0,1000)\")\n",
    "    \n",
    "images = driver.find_elements(By.XPATH,'//img[@class=\"rg_i Q4LuWd\"]')\n",
    "\n",
    "img_urls = []\n",
    "img_data = []\n",
    "for image in images:\n",
    "    source= image.get_attribute('src')\n",
    "    if source is not None:\n",
    "        if(source[0:4] == 'http'):\n",
    "            img_urls.append(source)\n",
    "            \n",
    "            \n",
    "for i in range(len(img_urls)):\n",
    "    if i > 10:\n",
    "        break\n",
    "    print(\"Downloading {0} of {1} images\" .format(i, 10))\n",
    "    response= requests.get(img_urls[i])\n",
    "    file = open(r\"D:\\images ass. 3\"+str(i)+\".jpg\", \"wb\")\n",
    "    file.write(response.content)"
   ]
  },
  {
   "cell_type": "code",
   "execution_count": 26,
   "id": "d59c54bb",
   "metadata": {},
   "outputs": [],
   "source": [
    "search_bar = driver.find_element(By.XPATH,'//input[@class=\"gLFyf\"]')   \n",
    "search_bar.send_keys(\"cars\")       \n",
    "search_button = driver.find_element(By.XPATH,'//span[@class=\"z1asCe MZy1Rb\"]')    \n",
    "search_button.click()       "
   ]
  },
  {
   "cell_type": "code",
   "execution_count": 27,
   "id": "e8196925",
   "metadata": {},
   "outputs": [
    {
     "name": "stdout",
     "output_type": "stream",
     "text": [
      "Downloading 0 of 10 images\n",
      "Downloading 1 of 10 images\n",
      "Downloading 2 of 10 images\n",
      "Downloading 3 of 10 images\n",
      "Downloading 4 of 10 images\n",
      "Downloading 5 of 10 images\n",
      "Downloading 6 of 10 images\n",
      "Downloading 7 of 10 images\n",
      "Downloading 8 of 10 images\n",
      "Downloading 9 of 10 images\n",
      "Downloading 10 of 10 images\n"
     ]
    }
   ],
   "source": [
    "for _ in range(20):\n",
    "    driver.execute_script(\"window.scrollBy(0,1000)\")\n",
    "    \n",
    "images = driver.find_elements(By.XPATH,'//img[@class=\"rg_i Q4LuWd\"]')\n",
    "\n",
    "img_urls = []\n",
    "img_data = []\n",
    "for image in images:\n",
    "    source= image.get_attribute('src')\n",
    "    if source is not None:\n",
    "        if(source[0:4] == 'http'):\n",
    "            img_urls.append(source)\n",
    "            \n",
    "            \n",
    "for i in range(len(img_urls)):\n",
    "    if i > 10:\n",
    "        break\n",
    "    print(\"Downloading {0} of {1} images\" .format(i, 10))\n",
    "    response= requests.get(img_urls[i])\n",
    "    file = open(r\"D:\\images ass. 3\"+str(i)+\".jpg\", \"wb\")\n",
    "    file.write(response.content)\n",
    "    "
   ]
  },
  {
   "cell_type": "code",
   "execution_count": 28,
   "id": "7df6b008",
   "metadata": {},
   "outputs": [],
   "source": [
    "search_bar = driver.find_element(By.XPATH,'//input[@class=\"gLFyf\"]')   \n",
    "search_bar.send_keys(\"Machine Learning\")       \n",
    "search_button = driver.find_element(By.XPATH,'//span[@class=\"z1asCe MZy1Rb\"]')    \n",
    "search_button.click()       "
   ]
  },
  {
   "cell_type": "code",
   "execution_count": 29,
   "id": "0a42c7eb",
   "metadata": {},
   "outputs": [
    {
     "name": "stdout",
     "output_type": "stream",
     "text": [
      "Downloading 0 of 10 images\n",
      "Downloading 1 of 10 images\n",
      "Downloading 2 of 10 images\n",
      "Downloading 3 of 10 images\n",
      "Downloading 4 of 10 images\n",
      "Downloading 5 of 10 images\n",
      "Downloading 6 of 10 images\n",
      "Downloading 7 of 10 images\n",
      "Downloading 8 of 10 images\n",
      "Downloading 9 of 10 images\n",
      "Downloading 10 of 10 images\n"
     ]
    }
   ],
   "source": [
    "for _ in range(20):\n",
    "    driver.execute_script(\"window.scrollBy(0,1000)\")\n",
    "    \n",
    "images = driver.find_elements(By.XPATH,'//img[@class=\"rg_i Q4LuWd\"]')\n",
    "\n",
    "img_urls = []\n",
    "img_data = []\n",
    "for image in images:\n",
    "    source= image.get_attribute('src')\n",
    "    if source is not None:\n",
    "        if(source[0:4] == 'http'):\n",
    "            img_urls.append(source)\n",
    "            \n",
    "            \n",
    "for i in range(len(img_urls)):\n",
    "    if i > 10:\n",
    "        break\n",
    "    print(\"Downloading {0} of {1} images\" .format(i, 10))\n",
    "    response= requests.get(img_urls[i])\n",
    "    file = open(r\"D:\\images ass. 3\"+str(i)+\".jpg\", \"wb\")\n",
    "    file.write(response.content)\n",
    "    "
   ]
  },
  {
   "cell_type": "code",
   "execution_count": 33,
   "id": "c1253de5",
   "metadata": {},
   "outputs": [],
   "source": [
    "search_bar = driver.find_element(By.XPATH,'//input[@class=\"gLFyf\"]')   \n",
    "search_bar.send_keys(\"Guitar\")       \n",
    "search_button = driver.find_element(By.XPATH,'//span[@class=\"z1asCe MZy1Rb\"]')    \n",
    "search_button.click()       "
   ]
  },
  {
   "cell_type": "code",
   "execution_count": 34,
   "id": "81b277f3",
   "metadata": {},
   "outputs": [
    {
     "name": "stdout",
     "output_type": "stream",
     "text": [
      "Downloading 0 of 10 images\n",
      "Downloading 1 of 10 images\n",
      "Downloading 2 of 10 images\n",
      "Downloading 3 of 10 images\n",
      "Downloading 4 of 10 images\n",
      "Downloading 5 of 10 images\n",
      "Downloading 6 of 10 images\n",
      "Downloading 7 of 10 images\n",
      "Downloading 8 of 10 images\n",
      "Downloading 9 of 10 images\n",
      "Downloading 10 of 10 images\n"
     ]
    }
   ],
   "source": [
    "for _ in range(20):\n",
    "    driver.execute_script(\"window.scrollBy(0,1000)\")\n",
    "    \n",
    "images = driver.find_elements(By.XPATH,'//img[@class=\"rg_i Q4LuWd\"]')\n",
    "\n",
    "img_urls = []\n",
    "img_data = []\n",
    "for image in images:\n",
    "    source= image.get_attribute('src')\n",
    "    if source is not None:\n",
    "        if(source[0:4] == 'http'):\n",
    "            img_urls.append(source)\n",
    "            \n",
    "            \n",
    "for i in range(len(img_urls)):\n",
    "    if i > 10:\n",
    "        break\n",
    "    print(\"Downloading {0} of {1} images\" .format(i, 10))\n",
    "    response= requests.get(img_urls[i])\n",
    "    file = open(r\"D:\\images ass. 3\"+str(i)+\".jpg\", \"wb\")\n",
    "    file.write(response.content)\n",
    "    "
   ]
  },
  {
   "cell_type": "markdown",
   "id": "e91c3f1e",
   "metadata": {},
   "source": [
    "# Question No 4"
   ]
  },
  {
   "cell_type": "code",
   "execution_count": 35,
   "id": "d5cff694",
   "metadata": {},
   "outputs": [],
   "source": [
    "import selenium\n",
    "import pandas as pd\n",
    "import time\n",
    "import warnings\n",
    "from selenium import webdriver\n",
    "from selenium.webdriver.common.by import By\n",
    "from selenium.common.exceptions import NoSuchElementException\n",
    "import requests"
   ]
  },
  {
   "cell_type": "code",
   "execution_count": 36,
   "id": "9a5c01d1",
   "metadata": {},
   "outputs": [
    {
     "name": "stderr",
     "output_type": "stream",
     "text": [
      "C:\\Users\\ser\\AppData\\Local\\Temp\\ipykernel_8704\\191662975.py:1: DeprecationWarning: executable_path has been deprecated, please pass in a Service object\n",
      "  driver=webdriver.Chrome(r\"chromedriver.exe\")\n"
     ]
    }
   ],
   "source": [
    "driver=webdriver.Chrome(r\"chromedriver.exe\")"
   ]
  },
  {
   "cell_type": "code",
   "execution_count": 37,
   "id": "9a849eae",
   "metadata": {},
   "outputs": [],
   "source": [
    "driver.get('https://www.flipkart.com/')\n",
    "time.sleep(3)\n"
   ]
  },
  {
   "cell_type": "code",
   "execution_count": 38,
   "id": "2c400b6c",
   "metadata": {},
   "outputs": [],
   "source": [
    "try:\n",
    "    login_close_button = driver.find_element(By.XPATH,'//button[@class=\"_2KpZ6l _2doB4z\"]')                  \n",
    "    login_close_button.click()\n",
    "except NoSuchElementException : \n",
    "    print(\"No Login page\")\n"
   ]
  },
  {
   "cell_type": "code",
   "execution_count": 39,
   "id": "728083e6",
   "metadata": {},
   "outputs": [],
   "source": [
    "search_bar = driver.find_element(By.XPATH,'//*[@id=\"container\"]/div/div[1]/div[1]/div[2]/div[2]/form/div/div/input')\n",
    "search_bar.send_keys(\"Pixel 4A\")\n",
    "search_button = driver.find_element(By.XPATH,'//button[@class=\"L0Z3Pu\"]')  \n",
    "search_button.click()       "
   ]
  },
  {
   "cell_type": "code",
   "execution_count": 40,
   "id": "71444790",
   "metadata": {},
   "outputs": [],
   "source": [
    "product_urls = []\n",
    "urls = driver.find_elements(By.XPATH,'//a[@class=\"_1fQZEK\"]')\n",
    "for url in urls:\n",
    "    product_urls.append(url.get_attribute(\"href\"))\n"
   ]
  },
  {
   "cell_type": "code",
   "execution_count": 41,
   "id": "4cd818fd",
   "metadata": {},
   "outputs": [
    {
     "data": {
      "text/plain": [
       "24"
      ]
     },
     "execution_count": 41,
     "metadata": {},
     "output_type": "execute_result"
    }
   ],
   "source": [
    "len(product_urls)"
   ]
  },
  {
   "cell_type": "code",
   "execution_count": 42,
   "id": "7065e945",
   "metadata": {},
   "outputs": [],
   "source": [
    "Brand_Name = []\n",
    "Smartphone_name = []\n",
    "Colour = []\n",
    "RAM = []\n",
    "Storage_ROM = []\n",
    "Primary_Camera = []\n",
    "Secondary_Camera = []\n",
    "Display_Size = []\n",
    "Battery_Capacity = []\n",
    "Price = []\n",
    "Product_URL = []"
   ]
  },
  {
   "cell_type": "code",
   "execution_count": 43,
   "id": "b32b09d4",
   "metadata": {},
   "outputs": [],
   "source": [
    "for url in product_urls:\n",
    "    driver.get(url)\n",
    "    Product_URL.append(url)\n",
    "    time.sleep(2)\n",
    "    \n",
    " \n",
    "    try:\n",
    "        brand = driver.find_element(By.XPATH,'//span[@class=\"B_NuCI\"]')      \n",
    "        Brand_Name.append(brand.text)\n",
    "    except NoSuchElementException:\n",
    "        Brand_Name.append('-')\n",
    "      \n",
    "    try:\n",
    "        name = driver.find_element(By.XPATH,'//div[@class=\"_3k-BhJ\"][1]/table/tbody/tr[3]/td[2]/ul/li')\n",
    "        Smartphone_name.append(name.text)\n",
    "    except NoSuchElementException:\n",
    "        Smartphone_name.append('-')\n",
    "    \n",
    "    try:\n",
    "        colour = driver.find_element(By.XPATH,'//div[@class=\"_3k-BhJ\"][1]/table/tbody/tr[4]/td[2]/ul/li')\n",
    "        Colour.append(colour.text)\n",
    "    except NoSuchElementException:\n",
    "        Colour.append('-')\n",
    "        \n",
    "    try:\n",
    "        ram = driver.find_element(By.XPATH,'//div[@class=\"_3k-BhJ\"][4]/table[1]/tbody/tr[2]/td[2]/ul/li')\n",
    "        RAM.append(ram.text)\n",
    "    except NoSuchElementException:\n",
    "        RAM.append('-')\n",
    "        \n",
    "    try:\n",
    "        rom = driver.find_element(By.XPATH,'//div[@class=\"_3k-BhJ\"][4]/table[1]/tbody/tr[1]/td[2]/ul/li')  \n",
    "        Storage_ROM.append(rom.text)\n",
    "    except NoSuchElementException:\n",
    "        Storage_ROM.append('-')\n",
    "        \n",
    "    try:                                                                                  \n",
    "        pri_cam = driver.find_element(By.XPATH,'//div[@class=\"_3k-BhJ\"][5]/table[1]/tbody/tr[2]/td[2]/ul/li')\n",
    "        Primary_Camera.append(pri_cam.text)\n",
    "    except NoSuchElementException:\n",
    "        Primary_Camera.append('-')\n",
    "        \n",
    "    try:                                          \n",
    "        sec_cam = driver.find_element(By.XPATH,'//div[@class=\"_3k-BhJ\"][5]/table[1]/tbody/tr[6]/td[2]/ul/li')\n",
    "        Secondary_Camera.append(sec_cam.text)\n",
    "    except NoSuchElementException:\n",
    "        Secondary_Camera.append('-')\n",
    "        \n",
    "    try:\n",
    "        disp_size = driver.find_element(By.XPATH,'//div[@class=\"_3k-BhJ\"][2]/table[1]/tbody/tr[1]/td[2]/ul/li')\n",
    "        Display_Size.append(disp_size.text)\n",
    "    except NoSuchElementException:\n",
    "        Display_Size.append('-')\n",
    "        \n",
    "    try:\n",
    "        bat_cap = driver.find_element(By.XPATH,'//div[@class=\"_3k-BhJ\"][10]/table/tbody/tr/td[2]/ul/li')\n",
    "        Battery_Capacity.append(bat_cap.text)\n",
    "    except NoSuchElementException:\n",
    "        Battery_Capacity.append('-')\n",
    " \n",
    "\n",
    "    try:\n",
    "        price = driver.find_element(By.XPATH,'//div[@class=\"_30jeq3 _16Jk6d\"]')\n",
    "        Price.append(price.text)\n",
    "    except NoSuchElementException:\n",
    "        Price.append('-')\n"
   ]
  },
  {
   "cell_type": "code",
   "execution_count": 44,
   "id": "f185d983",
   "metadata": {},
   "outputs": [
    {
     "name": "stdout",
     "output_type": "stream",
     "text": [
      "24 24 24 24 24 24 24 24 24 24 24\n"
     ]
    }
   ],
   "source": [
    "print(len(Brand_Name), len(Smartphone_name), len(Colour), len(RAM), len(Storage_ROM), len(Primary_Camera),len(Secondary_Camera), len(Display_Size), len(Battery_Capacity), len(Price), len(Product_URL))"
   ]
  },
  {
   "cell_type": "code",
   "execution_count": 45,
   "id": "f732e4c9",
   "metadata": {},
   "outputs": [],
   "source": [
    "df = pd.DataFrame({'Brand':Brand_Name,'Name':Smartphone_name,'Colour':colour,'ram':RAM,'rom':Storage_ROM,'Pri_cam':Primary_Camera,'Sec_cam':Secondary_Camera,'disp_size':Display_Size,'Bat_Cap':Battery_Capacity,'Price':Price,'URL':Product_URL})"
   ]
  },
  {
   "cell_type": "code",
   "execution_count": 46,
   "id": "300cae82",
   "metadata": {},
   "outputs": [
    {
     "name": "stdout",
     "output_type": "stream",
     "text": [
      "                                                Brand      Name  \\\n",
      "0        vivo T1 44W (Starry Sky, 128 GB)  (4 GB RAM)    T1 44W   \n",
      "1   vivo T1 44W (Midnight Galaxy, 128 GB)  (4 GB RAM)    T1 44W   \n",
      "2   Realme C30 - Locked with Airtel Prepaid (Denim...       C30   \n",
      "3   vivo T1 44W (Midnight Galaxy, 128 GB)  (6 GB RAM)    T1 44W   \n",
      "4        vivo T1 44W (Starry Sky, 128 GB)  (6 GB RAM)    T1 44W   \n",
      "5   vivo T1 44W (Midnight Galaxy, 128 GB)  (8 GB RAM)    T1 44W   \n",
      "6        realme C30 (Bamboo Green, 32 GB)  (3 GB RAM)       C30   \n",
      "7          realme C33 (Sandy Gold, 32 GB)  (3 GB RAM)       C33   \n",
      "8         Google Pixel 6a (Chalk, 128 GB)  (6 GB RAM)  Pixel 6a   \n",
      "9         realme C30 (Denim Black, 32 GB)  (2 GB RAM)       C30   \n",
      "10          realme C30 (Lake Blue, 32 GB)  (2 GB RAM)       C30   \n",
      "11          realme C33 (Aqua Blue, 32 GB)  (3 GB RAM)       C33   \n",
      "12          realme C33 (Night Sea, 32 GB)  (3 GB RAM)       C33   \n",
      "13       realme C30 (Bamboo Green, 32 GB)  (2 GB RAM)       C30   \n",
      "14        realme C30 (Denim Black, 32 GB)  (3 GB RAM)       C30   \n",
      "15          realme C30 (Lake Blue, 32 GB)  (3 GB RAM)       C30   \n",
      "16          realme C33 (Night Sea, 64 GB)  (4 GB RAM)       C33   \n",
      "17          realme C33 (Aqua Blue, 64 GB)  (4 GB RAM)       C33   \n",
      "18         realme C33 (Sandy Gold, 64 GB)  (4 GB RAM)       C33   \n",
      "19  REDMI Note 11 (Starburst White, 128 GB)  (6 GB...   Note 11   \n",
      "20  REDMI Note 11 (Starburst White, 64 GB)  (6 GB ...   Note 11   \n",
      "21     Google Pixel 6a (Charcoal, 128 GB)  (6 GB RAM)  Pixel 6a   \n",
      "22       vivo T1 44W (Starry Sky, 128 GB)  (8 GB RAM)    T1 44W   \n",
      "23         realme 10 (Clash White, 64 GB)  (4 GB RAM)        10   \n",
      "\n",
      "                                               Colour ram rom Pri_cam Sec_cam  \\\n",
      "0   <selenium.webdriver.remote.webelement.WebEleme...                           \n",
      "1   <selenium.webdriver.remote.webelement.WebEleme...                           \n",
      "2   <selenium.webdriver.remote.webelement.WebEleme...                           \n",
      "3   <selenium.webdriver.remote.webelement.WebEleme...                           \n",
      "4   <selenium.webdriver.remote.webelement.WebEleme...                           \n",
      "5   <selenium.webdriver.remote.webelement.WebEleme...                           \n",
      "6   <selenium.webdriver.remote.webelement.WebEleme...                           \n",
      "7   <selenium.webdriver.remote.webelement.WebEleme...                           \n",
      "8   <selenium.webdriver.remote.webelement.WebEleme...                           \n",
      "9   <selenium.webdriver.remote.webelement.WebEleme...                           \n",
      "10  <selenium.webdriver.remote.webelement.WebEleme...                           \n",
      "11  <selenium.webdriver.remote.webelement.WebEleme...                           \n",
      "12  <selenium.webdriver.remote.webelement.WebEleme...                           \n",
      "13  <selenium.webdriver.remote.webelement.WebEleme...                           \n",
      "14  <selenium.webdriver.remote.webelement.WebEleme...                           \n",
      "15  <selenium.webdriver.remote.webelement.WebEleme...                           \n",
      "16  <selenium.webdriver.remote.webelement.WebEleme...                           \n",
      "17  <selenium.webdriver.remote.webelement.WebEleme...                           \n",
      "18  <selenium.webdriver.remote.webelement.WebEleme...                           \n",
      "19  <selenium.webdriver.remote.webelement.WebEleme...                       -   \n",
      "20  <selenium.webdriver.remote.webelement.WebEleme...                       -   \n",
      "21  <selenium.webdriver.remote.webelement.WebEleme...                           \n",
      "22  <selenium.webdriver.remote.webelement.WebEleme...                           \n",
      "23  <selenium.webdriver.remote.webelement.WebEleme...                           \n",
      "\n",
      "   disp_size Bat_Cap    Price  \\\n",
      "0                     ₹14,499   \n",
      "1                     ₹14,499   \n",
      "2                      ₹5,549   \n",
      "3                     ₹15,999   \n",
      "4                     ₹15,999   \n",
      "5                     ₹17,999   \n",
      "6                      ₹6,999   \n",
      "7                      ₹8,999   \n",
      "8                     ₹28,999   \n",
      "9                      ₹5,999   \n",
      "10                     ₹5,999   \n",
      "11                     ₹8,999   \n",
      "12                     ₹8,999   \n",
      "13                     ₹5,999   \n",
      "14                     ₹6,999   \n",
      "15                     ₹6,999   \n",
      "16                     ₹9,999   \n",
      "17                     ₹9,999   \n",
      "18                     ₹9,999   \n",
      "19                 -  ₹15,299   \n",
      "20                 -  ₹13,497   \n",
      "21                    ₹28,999   \n",
      "22                    ₹17,999   \n",
      "23                    ₹13,999   \n",
      "\n",
      "                                                  URL  \n",
      "0   https://www.flipkart.com/vivo-t1-44w-starry-sk...  \n",
      "1   https://www.flipkart.com/vivo-t1-44w-midnight-...  \n",
      "2   https://www.flipkart.com/realme-c30-locked-air...  \n",
      "3   https://www.flipkart.com/vivo-t1-44w-midnight-...  \n",
      "4   https://www.flipkart.com/vivo-t1-44w-starry-sk...  \n",
      "5   https://www.flipkart.com/vivo-t1-44w-midnight-...  \n",
      "6   https://www.flipkart.com/realme-c30-bamboo-gre...  \n",
      "7   https://www.flipkart.com/realme-c33-sandy-gold...  \n",
      "8   https://www.flipkart.com/google-pixel-6a-chalk...  \n",
      "9   https://www.flipkart.com/realme-c30-denim-blac...  \n",
      "10  https://www.flipkart.com/realme-c30-lake-blue-...  \n",
      "11  https://www.flipkart.com/realme-c33-aqua-blue-...  \n",
      "12  https://www.flipkart.com/realme-c33-night-sea-...  \n",
      "13  https://www.flipkart.com/realme-c30-bamboo-gre...  \n",
      "14  https://www.flipkart.com/realme-c30-denim-blac...  \n",
      "15  https://www.flipkart.com/realme-c30-lake-blue-...  \n",
      "16  https://www.flipkart.com/realme-c33-night-sea-...  \n",
      "17  https://www.flipkart.com/realme-c33-aqua-blue-...  \n",
      "18  https://www.flipkart.com/realme-c33-sandy-gold...  \n",
      "19  https://www.flipkart.com/redmi-note-11-starbur...  \n",
      "20  https://www.flipkart.com/redmi-note-11-starbur...  \n",
      "21  https://www.flipkart.com/google-pixel-6a-charc...  \n",
      "22  https://www.flipkart.com/vivo-t1-44w-starry-sk...  \n",
      "23  https://www.flipkart.com/realme-10-clash-white...  \n"
     ]
    }
   ],
   "source": [
    "print(df)"
   ]
  },
  {
   "cell_type": "markdown",
   "id": "806aeb62",
   "metadata": {},
   "source": [
    "# Question No. 5"
   ]
  },
  {
   "cell_type": "code",
   "execution_count": 47,
   "id": "b92b6971",
   "metadata": {},
   "outputs": [],
   "source": [
    "import selenium\n",
    "import pandas as pd\n",
    "import time\n",
    "import warnings\n",
    "from selenium import webdriver\n",
    "from selenium.webdriver.common.by import By\n",
    "from selenium.common.exceptions import NoSuchElementException\n",
    "import requests\n",
    "import re"
   ]
  },
  {
   "cell_type": "code",
   "execution_count": 48,
   "id": "2e32ef33",
   "metadata": {},
   "outputs": [
    {
     "name": "stderr",
     "output_type": "stream",
     "text": [
      "C:\\Users\\ser\\AppData\\Local\\Temp\\ipykernel_8704\\191662975.py:1: DeprecationWarning: executable_path has been deprecated, please pass in a Service object\n",
      "  driver=webdriver.Chrome(r\"chromedriver.exe\")\n"
     ]
    }
   ],
   "source": [
    "driver=webdriver.Chrome(r\"chromedriver.exe\")"
   ]
  },
  {
   "cell_type": "code",
   "execution_count": 49,
   "id": "f527024a",
   "metadata": {},
   "outputs": [],
   "source": [
    "url = \"https://www.google.co.in/maps\"\n",
    "driver.get(url)\n",
    "time.sleep(2)\n"
   ]
  },
  {
   "cell_type": "code",
   "execution_count": 50,
   "id": "02c0d9da",
   "metadata": {},
   "outputs": [
    {
     "name": "stdout",
     "output_type": "stream",
     "text": [
      "URL Extracted:  https://www.google.co.in/maps/place/New+Delhi,+Delhi/@28.5272803,77.0688983,11z/data=!3m1!4b1!4m6!3m5!1s0x390cfd5b347eb62d:0x52c2b7494e204dce!8m2!3d28.6139391!4d77.2090212!16zL20vMGRsdjA\n",
      "Latitude = 28.5272803, Longitude = 77.0688983\n"
     ]
    }
   ],
   "source": [
    "search = driver.find_element(By.XPATH,'//input[@class=\"tactile-searchbox-input\"]')                      \n",
    "search.clear()                                                            \n",
    "time.sleep(2)\n",
    "search.send_keys(\"New Delhi\")                                             \n",
    "button = driver.find_element(By.XPATH,'//button[@class=\"mL3xi\"]')              \n",
    "button.click()                                                            \n",
    "time.sleep(3)\n",
    "\n",
    "try:\n",
    "    url_string = driver.current_url\n",
    "    print(\"URL Extracted: \", url_string)\n",
    "    lat_lng = re.findall(r'@(.*)data',url_string)\n",
    "    if len(lat_lng):\n",
    "        lat_lng_list = lat_lng[0].split(\",\")\n",
    "        if len(lat_lng_list)>=2:\n",
    "            lat = lat_lng_list[0]\n",
    "            lng = lat_lng_list[1]\n",
    "        print(\"Latitude = {}, Longitude = {}\".format(lat, lng))\n",
    "\n",
    "except Exception as e:\n",
    "        print(\"Error: \", str(e))"
   ]
  },
  {
   "cell_type": "code",
   "execution_count": null,
   "id": "eac661ea",
   "metadata": {},
   "outputs": [],
   "source": []
  }
 ],
 "metadata": {
  "kernelspec": {
   "display_name": "Python 3 (ipykernel)",
   "language": "python",
   "name": "python3"
  },
  "language_info": {
   "codemirror_mode": {
    "name": "ipython",
    "version": 3
   },
   "file_extension": ".py",
   "mimetype": "text/x-python",
   "name": "python",
   "nbconvert_exporter": "python",
   "pygments_lexer": "ipython3",
   "version": "3.9.13"
  }
 },
 "nbformat": 4,
 "nbformat_minor": 5
}
